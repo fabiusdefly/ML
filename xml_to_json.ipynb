{
  "cells": [
    {
      "cell_type": "markdown",
      "metadata": {
        "id": "view-in-github",
        "colab_type": "text"
      },
      "source": [
        "<a href=\"https://colab.research.google.com/github/fabiusdefly/ML/blob/main/xml_to_json.ipynb\" target=\"_parent\"><img src=\"https://colab.research.google.com/assets/colab-badge.svg\" alt=\"Open In Colab\"/></a>"
      ]
    },
    {
      "cell_type": "code",
      "source": [
        "pip install xmltodict"
      ],
      "metadata": {
        "id": "P4W-7PWdfcH1",
        "outputId": "e2836492-77d2-43f3-b50c-50cc3c2d4f0a",
        "colab": {
          "base_uri": "https://localhost:8080/"
        }
      },
      "execution_count": 2,
      "outputs": [
        {
          "output_type": "stream",
          "name": "stdout",
          "text": [
            "Looking in indexes: https://pypi.org/simple, https://us-python.pkg.dev/colab-wheels/public/simple/\n",
            "Collecting xmltodict\n",
            "  Downloading xmltodict-0.13.0-py2.py3-none-any.whl (10.0 kB)\n",
            "Installing collected packages: xmltodict\n",
            "Successfully installed xmltodict-0.13.0\n"
          ]
        }
      ]
    },
    {
      "cell_type": "code",
      "source": [
        "import json\n",
        "from lxml import etree\n",
        "import xmltodict\n",
        "import psutil , os"
      ],
      "metadata": {
        "id": "pSu7zS-ie5Fa"
      },
      "execution_count": 3,
      "outputs": []
    },
    {
      "cell_type": "code",
      "source": [
        "with open(\"/content/HAV_PEN_EP_QUOT_20221012081651.xml\", encoding='latin1') as xmlfile:\n",
        "\n",
        "\tdata_dict = xmltodict.parse(xmlfile.read(), force_list={\"role\", \"support_composant\", \"evt_global\", \"evt_detail\"}, encoding='utf-8')\n",
        "\txmlfile.close()\n",
        "\n",
        "\tprocess = psutil.Process(os.getpid())\n",
        "\tprint(process.memory_info().rss)\n",
        "\t# generate the object using json.dumps()\n",
        "\t# corresponding to json data\n",
        "\t\n",
        "\tjson_data = json.dumps(data_dict, ensure_ascii=False)\n",
        "\n",
        "\t# Write the json data to output\n",
        "\t# json file\n",
        "\twith open(\"penelop_utf.json\", \"w\", encoding='utf-8') as json_file:\n",
        "\t\tjson_file.write(json_data)\n",
        "\t\tjson_file.close()"
      ],
      "metadata": {
        "id": "LHf0Fsh_e-mi",
        "outputId": "db0c6949-4824-4185-cd8d-42383f413386",
        "colab": {
          "base_uri": "https://localhost:8080/"
        }
      },
      "execution_count": 4,
      "outputs": [
        {
          "output_type": "stream",
          "name": "stdout",
          "text": [
            "115920896\n"
          ]
        }
      ]
    }
  ],
  "metadata": {
    "colab": {
      "collapsed_sections": [],
      "name": "Bienvenue dans Colaboratory",
      "provenance": [],
      "include_colab_link": true
    },
    "kernelspec": {
      "display_name": "Python 3",
      "name": "python3"
    }
  },
  "nbformat": 4,
  "nbformat_minor": 0
}