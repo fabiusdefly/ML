{
  "cells": [
    {
      "cell_type": "markdown",
      "metadata": {
        "id": "view-in-github",
        "colab_type": "text"
      },
      "source": [
        "<a href=\"https://colab.research.google.com/github/fabiusdefly/ML/blob/main/test_Moussa.ipynb\" target=\"_parent\"><img src=\"https://colab.research.google.com/assets/colab-badge.svg\" alt=\"Open In Colab\"/></a>"
      ]
    },
    {
      "cell_type": "code",
      "source": [
        "from IPython.core.application import default\n",
        "for i in range(1, 101):\n",
        "    if i % 3 == 0 and i %5  == 0:\n",
        "      print(\"ThreeFive\")\n",
        "    elif i % 3 == 0:\n",
        "      print(\"Three\")\n",
        "    elif i % 5 == 0:\n",
        "      print(\"Five\") \n",
        "    else :\n",
        "      print(i)\n"
      ],
      "metadata": {
        "id": "9cMlykBU_BOM",
        "outputId": "db16b1c8-d188-4b17-a948-47f31e9e2b85",
        "colab": {
          "base_uri": "https://localhost:8080/"
        }
      },
      "execution_count": 7,
      "outputs": [
        {
          "output_type": "stream",
          "name": "stdout",
          "text": [
            "1\n",
            "2\n",
            "Three\n",
            "4\n",
            "Five\n",
            "Three\n",
            "7\n",
            "8\n",
            "Three\n",
            "Five\n",
            "11\n",
            "Three\n",
            "13\n",
            "14\n",
            "ThreeFive\n",
            "16\n",
            "17\n",
            "Three\n",
            "19\n",
            "Five\n",
            "Three\n",
            "22\n",
            "23\n",
            "Three\n",
            "Five\n",
            "26\n",
            "Three\n",
            "28\n",
            "29\n",
            "ThreeFive\n",
            "31\n",
            "32\n",
            "Three\n",
            "34\n",
            "Five\n",
            "Three\n",
            "37\n",
            "38\n",
            "Three\n",
            "Five\n",
            "41\n",
            "Three\n",
            "43\n",
            "44\n",
            "ThreeFive\n",
            "46\n",
            "47\n",
            "Three\n",
            "49\n",
            "Five\n",
            "Three\n",
            "52\n",
            "53\n",
            "Three\n",
            "Five\n",
            "56\n",
            "Three\n",
            "58\n",
            "59\n",
            "ThreeFive\n",
            "61\n",
            "62\n",
            "Three\n",
            "64\n",
            "Five\n",
            "Three\n",
            "67\n",
            "68\n",
            "Three\n",
            "Five\n",
            "71\n",
            "Three\n",
            "73\n",
            "74\n",
            "ThreeFive\n",
            "76\n",
            "77\n",
            "Three\n",
            "79\n",
            "Five\n",
            "Three\n",
            "82\n",
            "83\n",
            "Three\n",
            "Five\n",
            "86\n",
            "Three\n",
            "88\n",
            "89\n",
            "ThreeFive\n",
            "91\n",
            "92\n",
            "Three\n",
            "94\n",
            "Five\n",
            "Three\n",
            "97\n",
            "98\n",
            "Three\n",
            "Five\n"
          ]
        }
      ]
    },
    {
      "cell_type": "code",
      "source": [
        "def calculate(integer_list):\n",
        "  if type(integer_list) != list:\n",
        "    return False  \n",
        "  str_list = list(filter(lambda i: type(i) == str, integer_list))\n",
        "  integer_sum = 0\n",
        "  for element in str_list:\n",
        "    try :\n",
        "      integer_sum += int(element)\n",
        "    except :\n",
        "      pass\n",
        "  print(integer_sum)    "
      ],
      "metadata": {
        "id": "0AsvmbV7at-R"
      },
      "execution_count": 65,
      "outputs": []
    },
    {
      "cell_type": "code",
      "source": [
        "calculate(['4', '3', '-2'])\n",
        "calculate(453)\n",
        "calculate(['nothing', 3, '8', 2, '1'])\n",
        "calculate('54')"
      ],
      "metadata": {
        "id": "DJovsIM5ixF5",
        "outputId": "301623e5-5b5b-4912-9576-5cedf93bd31c",
        "colab": {
          "base_uri": "https://localhost:8080/"
        }
      },
      "execution_count": 70,
      "outputs": [
        {
          "output_type": "stream",
          "name": "stdout",
          "text": [
            "9\n"
          ]
        },
        {
          "output_type": "execute_result",
          "data": {
            "text/plain": [
              "False"
            ]
          },
          "metadata": {},
          "execution_count": 70
        }
      ]
    },
    {
      "cell_type": "code",
      "source": [
        "anagrams('abba', ['aabb', 'abcd', 'bbaa', 'dada'])\n",
        "\n",
        "anagrams('racer', ['crazer', 'carer', 'racar', 'caers', 'racer'])\n",
        "\n",
        "anagrams('laser', ['lazing', 'lazy',  'lacer'])\n"
      ],
      "metadata": {
        "id": "9AT285iyoPMO",
        "outputId": "c78767be-021c-4885-a12c-db4046282aa6",
        "colab": {
          "base_uri": "https://localhost:8080/"
        }
      },
      "execution_count": 86,
      "outputs": [
        {
          "output_type": "execute_result",
          "data": {
            "text/plain": [
              "[]"
            ]
          },
          "metadata": {},
          "execution_count": 86
        }
      ]
    },
    {
      "cell_type": "code",
      "source": [
        "def anagrams (word, words_list):\n",
        "  anagrams_list = []\n",
        "  for element in words_list:\n",
        "    if sorted(word) == sorted(element):\n",
        "      anagrams_list.append(element)\n",
        "  return anagrams_list    "
      ],
      "metadata": {
        "id": "aCAjhOVwoyr2"
      },
      "execution_count": 82,
      "outputs": []
    },
    {
      "cell_type": "code",
      "source": [
        "anagrams('abba', ['aabb', 'abcd', 'bbaa', 'dada'])"
      ],
      "metadata": {
        "id": "xQ9JCSNVpg05",
        "outputId": "232e604d-16ab-4633-8179-03eb8541a815",
        "colab": {
          "base_uri": "https://localhost:8080/"
        }
      },
      "execution_count": 87,
      "outputs": [
        {
          "output_type": "execute_result",
          "data": {
            "text/plain": [
              "['aabb', 'bbaa']"
            ]
          },
          "metadata": {},
          "execution_count": 87
        }
      ]
    }
  ],
  "metadata": {
    "colab": {
      "name": "Bienvenue dans Colaboratory",
      "toc_visible": true,
      "provenance": [],
      "include_colab_link": true
    },
    "kernelspec": {
      "display_name": "Python 3",
      "name": "python3"
    }
  },
  "nbformat": 4,
  "nbformat_minor": 0
}