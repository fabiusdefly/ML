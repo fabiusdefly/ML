{
  "cells": [
    {
      "cell_type": "markdown",
      "metadata": {
        "id": "view-in-github",
        "colab_type": "text"
      },
      "source": [
        "<a href=\"https://colab.research.google.com/github/fabiusdefly/ML/blob/main/test_Moussa.ipynb\" target=\"_parent\"><img src=\"https://colab.research.google.com/assets/colab-badge.svg\" alt=\"Open In Colab\"/></a>"
      ]
    },
    {
      "cell_type": "code",
      "source": [
        "from IPython.core.application import default\n",
        "for i in range(1, 101):\n",
        "    if i % 3 == 0 and i %5  == 0:\n",
        "      print(\"ThreeFive\")\n",
        "    elif i % 3 == 0:\n",
        "      print(\"Three\")\n",
        "    elif i % 5 == 0:\n",
        "      print(\"Five\") \n",
        "    else :\n",
        "      print(i)\n"
      ],
      "metadata": {
        "colab": {
          "base_uri": "https://localhost:8080/"
        },
        "id": "9cMlykBU_BOM",
        "outputId": "db16b1c8-d188-4b17-a948-47f31e9e2b85"
      },
      "execution_count": 7,
      "outputs": [
        {
          "output_type": "stream",
          "name": "stdout",
          "text": [
            "1\n",
            "2\n",
            "Three\n",
            "4\n",
            "Five\n",
            "Three\n",
            "7\n",
            "8\n",
            "Three\n",
            "Five\n",
            "11\n",
            "Three\n",
            "13\n",
            "14\n",
            "ThreeFive\n",
            "16\n",
            "17\n",
            "Three\n",
            "19\n",
            "Five\n",
            "Three\n",
            "22\n",
            "23\n",
            "Three\n",
            "Five\n",
            "26\n",
            "Three\n",
            "28\n",
            "29\n",
            "ThreeFive\n",
            "31\n",
            "32\n",
            "Three\n",
            "34\n",
            "Five\n",
            "Three\n",
            "37\n",
            "38\n",
            "Three\n",
            "Five\n",
            "41\n",
            "Three\n",
            "43\n",
            "44\n",
            "ThreeFive\n",
            "46\n",
            "47\n",
            "Three\n",
            "49\n",
            "Five\n",
            "Three\n",
            "52\n",
            "53\n",
            "Three\n",
            "Five\n",
            "56\n",
            "Three\n",
            "58\n",
            "59\n",
            "ThreeFive\n",
            "61\n",
            "62\n",
            "Three\n",
            "64\n",
            "Five\n",
            "Three\n",
            "67\n",
            "68\n",
            "Three\n",
            "Five\n",
            "71\n",
            "Three\n",
            "73\n",
            "74\n",
            "ThreeFive\n",
            "76\n",
            "77\n",
            "Three\n",
            "79\n",
            "Five\n",
            "Three\n",
            "82\n",
            "83\n",
            "Three\n",
            "Five\n",
            "86\n",
            "Three\n",
            "88\n",
            "89\n",
            "ThreeFive\n",
            "91\n",
            "92\n",
            "Three\n",
            "94\n",
            "Five\n",
            "Three\n",
            "97\n",
            "98\n",
            "Three\n",
            "Five\n"
          ]
        }
      ]
    },
    {
      "cell_type": "code",
      "source": [
        "def calculate(integer_list):\n",
        "  if type(integer_list) != list:\n",
        "    return False  \n",
        "  str_list = list(filter(lambda i: type(i) == str, integer_list))\n",
        "  integer_sum = 0\n",
        "  for element in str_list:\n",
        "    try :\n",
        "      integer_sum += int(element)\n",
        "    except :\n",
        "      pass\n",
        "  print(integer_sum)    "
      ],
      "metadata": {
        "id": "0AsvmbV7at-R"
      },
      "execution_count": 65,
      "outputs": []
    },
    {
      "cell_type": "code",
      "source": [
        "calculate(['4', '3', '-2'])\n",
        "calculate(453)\n",
        "calculate(['nothing', 3, '8', 2, '1'])\n",
        "calculate('54')"
      ],
      "metadata": {
        "colab": {
          "base_uri": "https://localhost:8080/"
        },
        "id": "DJovsIM5ixF5",
        "outputId": "301623e5-5b5b-4912-9576-5cedf93bd31c"
      },
      "execution_count": 70,
      "outputs": [
        {
          "output_type": "stream",
          "name": "stdout",
          "text": [
            "9\n"
          ]
        },
        {
          "output_type": "execute_result",
          "data": {
            "text/plain": [
              "False"
            ]
          },
          "metadata": {},
          "execution_count": 70
        }
      ]
    },
    {
      "cell_type": "code",
      "source": [
        "def anagrams (word, words_list):\n",
        "  anagrams_list = []\n",
        "  for element in words_list:\n",
        "    if sorted(word) == sorted(element):\n",
        "      anagrams_list.append(element)\n",
        "  return anagrams_list    "
      ],
      "metadata": {
        "id": "aCAjhOVwoyr2"
      },
      "execution_count": 82,
      "outputs": []
    },
    {
      "cell_type": "code",
      "source": [
        "anagrams('abba', ['aabb', 'abcd', 'bbaa', 'dada'])"
      ],
      "metadata": {
        "colab": {
          "base_uri": "https://localhost:8080/"
        },
        "id": "xQ9JCSNVpg05",
        "outputId": "232e604d-16ab-4633-8179-03eb8541a815"
      },
      "execution_count": 87,
      "outputs": [
        {
          "output_type": "execute_result",
          "data": {
            "text/plain": [
              "['aabb', 'bbaa']"
            ]
          },
          "metadata": {},
          "execution_count": 87
        }
      ]
    },
    {
      "cell_type": "markdown",
      "source": [
        "Part 2"
      ],
      "metadata": {
        "id": "zoL_AnC5qPFp"
      }
    },
    {
      "cell_type": "code",
      "source": [
        "import random\n",
        "\n",
        "def random_func ():\n",
        "  for i in range(1, 16):\n",
        "    print(i, \"->\", random.randint(10, 20))\n",
        "\n",
        "random_func()"
      ],
      "metadata": {
        "id": "-rw8Ez-LqSER",
        "outputId": "88c7690f-39fb-420c-cbbd-69659a1a318d",
        "colab": {
          "base_uri": "https://localhost:8080/"
        }
      },
      "execution_count": 94,
      "outputs": [
        {
          "output_type": "stream",
          "name": "stdout",
          "text": [
            "1 -> 12\n",
            "2 -> 13\n",
            "3 -> 15\n",
            "4 -> 13\n",
            "5 -> 20\n",
            "6 -> 14\n",
            "7 -> 19\n",
            "8 -> 10\n",
            "9 -> 20\n",
            "10 -> 15\n",
            "11 -> 17\n",
            "12 -> 16\n",
            "13 -> 13\n",
            "14 -> 19\n",
            "15 -> 17\n"
          ]
        }
      ]
    },
    {
      "cell_type": "code",
      "source": [
        "import requests\n",
        "\n",
        "def http_request (url, params):\n",
        "  x = requests.post(url, params)\n",
        "  return x.text\n",
        "\n",
        "url = 'https://httpbin.org/anything'\n",
        "params = {'isAdmin': 1}\n",
        "http_request(url, params)"
      ],
      "metadata": {
        "id": "7QgPCQJdr76L",
        "outputId": "8837e53c-a2c6-4f4e-c6c0-dfab6b76656d",
        "colab": {
          "base_uri": "https://localhost:8080/",
          "height": 53
        }
      },
      "execution_count": 100,
      "outputs": [
        {
          "output_type": "execute_result",
          "data": {
            "text/plain": [
              "'{\\n  \"args\": {}, \\n  \"data\": \"\", \\n  \"files\": {}, \\n  \"form\": {\\n    \"User-Agent\": \"Moussa Sidibe\"\\n  }, \\n  \"headers\": {\\n    \"Accept\": \"*/*\", \\n    \"Accept-Encoding\": \"gzip, deflate\", \\n    \"Content-Length\": \"24\", \\n    \"Content-Type\": \"application/x-www-form-urlencoded\", \\n    \"Host\": \"httpbin.org\", \\n    \"User-Agent\": \"python-requests/2.25.1\", \\n    \"X-Amzn-Trace-Id\": \"Root=1-63bb1da7-2f171f7052f0a62a0dfafdb2\"\\n  }, \\n  \"json\": null, \\n  \"method\": \"POST\", \\n  \"origin\": \"35.243.174.118\", \\n  \"url\": \"https://httpbin.org/anything\"\\n}\\n'"
            ],
            "application/vnd.google.colaboratory.intrinsic+json": {
              "type": "string"
            }
          },
          "metadata": {},
          "execution_count": 100
        }
      ]
    },
    {
      "cell_type": "code",
      "source": [
        "import requests\n",
        "\n",
        "def http_request (url, params):\n",
        "  x = requests.patch(url, params)\n",
        "  return x.text\n",
        "\n",
        "url = 'https://httpbin.org/anything'\n",
        "params = {\"headers\":{'User-Agent': \"modife\"}}\n",
        "http_request(url, params)"
      ],
      "metadata": {
        "id": "jUZu6Tmr7ZZA",
        "outputId": "4ddca7aa-083e-4c52-c88e-669b6de37859",
        "colab": {
          "base_uri": "https://localhost:8080/",
          "height": 53
        }
      },
      "execution_count": 105,
      "outputs": [
        {
          "output_type": "execute_result",
          "data": {
            "text/plain": [
              "'{\\n  \"args\": {}, \\n  \"data\": \"\", \\n  \"files\": {}, \\n  \"form\": {\\n    \"headers\": \"User-Agent\"\\n  }, \\n  \"headers\": {\\n    \"Accept\": \"*/*\", \\n    \"Accept-Encoding\": \"gzip, deflate\", \\n    \"Content-Length\": \"18\", \\n    \"Content-Type\": \"application/x-www-form-urlencoded\", \\n    \"Host\": \"httpbin.org\", \\n    \"User-Agent\": \"python-requests/2.25.1\", \\n    \"X-Amzn-Trace-Id\": \"Root=1-63bb1f2e-5fd617290a1d4c2143acbd64\"\\n  }, \\n  \"json\": null, \\n  \"method\": \"PATCH\", \\n  \"origin\": \"35.243.174.118\", \\n  \"url\": \"https://httpbin.org/anything\"\\n}\\n'"
            ],
            "application/vnd.google.colaboratory.intrinsic+json": {
              "type": "string"
            }
          },
          "metadata": {},
          "execution_count": 105
        }
      ]
    },
    {
      "cell_type": "code",
      "source": [
        "import gzip\n",
        "import json\n",
        "\n",
        "class Product :\n",
        "  def __init__(self):\n",
        "    Product.products = []\n",
        "    Product.data = {}\n",
        "\n",
        "  def read_products_file(self):\n",
        "    with gzip.open(\"/content/data.json.gz\", \"rb\") as f:\n",
        "      product_file = f.read()\n",
        "      Product.data = json.loads(product_file)[\"Bundles\"]\n",
        "      for product in Product.data:\n",
        "        print(product['Name'])\n",
        "        break\n",
        "        \n",
        "\n",
        "  \n",
        "     \n"
      ],
      "metadata": {
        "id": "8KCf_L7R-8so"
      },
      "execution_count": 182,
      "outputs": []
    },
    {
      "cell_type": "code",
      "source": [
        "p = Product()\n",
        "p.read_products_file()"
      ],
      "metadata": {
        "id": "qaAMxkvCEteQ",
        "outputId": "4a929b62-aaff-4662-87a7-aa5870fbf20b",
        "colab": {
          "base_uri": "https://localhost:8080/"
        }
      },
      "execution_count": 183,
      "outputs": [
        {
          "output_type": "stream",
          "name": "stdout",
          "text": [
            "Tommee Tippee Ctn Transition Cup\n"
          ]
        }
      ]
    },
    {
      "cell_type": "code",
      "source": [
        "p.products"
      ],
      "metadata": {
        "id": "svjoNMsCJD1L",
        "outputId": "408d5dac-c509-4339-e60b-67302be42a2d",
        "colab": {
          "base_uri": "https://localhost:8080/"
        }
      },
      "execution_count": 143,
      "outputs": [
        {
          "output_type": "execute_result",
          "data": {
            "text/plain": [
              "[]"
            ]
          },
          "metadata": {},
          "execution_count": 143
        }
      ]
    }
  ],
  "metadata": {
    "colab": {
      "name": "Bienvenue dans Colaboratory",
      "provenance": [],
      "include_colab_link": true
    },
    "kernelspec": {
      "display_name": "Python 3",
      "name": "python3"
    }
  },
  "nbformat": 4,
  "nbformat_minor": 0
}